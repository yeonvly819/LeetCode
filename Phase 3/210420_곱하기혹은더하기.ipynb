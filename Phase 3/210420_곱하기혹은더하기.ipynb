{
 "metadata": {
  "language_info": {
   "codemirror_mode": {
    "name": "ipython",
    "version": 3
   },
   "file_extension": ".py",
   "mimetype": "text/x-python",
   "name": "python",
   "nbconvert_exporter": "python",
   "pygments_lexer": "ipython3",
   "version": "3.7.9-final"
  },
  "orig_nbformat": 2,
  "kernelspec": {
   "name": "python379jvsc74a57bd0b3ba2566441a7c06988d0923437866b63cedc61552a5af99d1f4fb67d367b25f",
   "display_name": "Python 3.7.9 64-bit (conda)"
  }
 },
 "nbformat": 4,
 "nbformat_minor": 2,
 "cells": [
  {
   "cell_type": "code",
   "execution_count": 13,
   "metadata": {},
   "outputs": [
    {
     "output_type": "stream",
     "name": "stdout",
     "text": [
      "step 0 0\nstep 2 2\nstep 1 3\nstep 9 27\nstep 8 216\nstep 4 864\n864\n"
     ]
    }
   ],
   "source": [
    "nums = list((map(str, input())))\n",
    "\n",
    "result = 0\n",
    "\n",
    "for i in nums:\n",
    "    if (result == 0) | (int(i) == 1) | (int(i) == 0):\n",
    "        result += int(i)\n",
    "\n",
    "    else:\n",
    "        result *= int(i)\n",
    "    print('step', i, result)\n",
    "print(result)"
   ]
  },
  {
   "cell_type": "code",
   "execution_count": null,
   "metadata": {},
   "outputs": [],
   "source": []
  }
 ]
}