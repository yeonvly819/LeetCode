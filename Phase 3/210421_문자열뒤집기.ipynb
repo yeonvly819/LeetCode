{
 "metadata": {
  "language_info": {
   "codemirror_mode": {
    "name": "ipython",
    "version": 3
   },
   "file_extension": ".py",
   "mimetype": "text/x-python",
   "name": "python",
   "nbconvert_exporter": "python",
   "pygments_lexer": "ipython3",
   "version": "3.7.9"
  },
  "orig_nbformat": 2,
  "kernelspec": {
   "name": "python379jvsc74a57bd0b3ba2566441a7c06988d0923437866b63cedc61552a5af99d1f4fb67d367b25f",
   "display_name": "Python 3.7.9 64-bit (conda)"
  }
 },
 "nbformat": 4,
 "nbformat_minor": 2,
 "cells": [
  {
   "cell_type": "code",
   "execution_count": 3,
   "metadata": {},
   "outputs": [
    {
     "output_type": "stream",
     "name": "stdout",
     "text": [
      "0\n"
     ]
    }
   ],
   "source": [
    "# 중복된 값을 하나의 값으로 바꾸기\n",
    "# 전체 문자열 길이와 int로 변환 후 합(= 1의 개수)을 비교 후 더 적은 수를 택함\n",
    "\n",
    "nums = input()\n",
    "\n",
    "new_num = nums[0]\n",
    "\n",
    "for i in nums:\n",
    "    if new_num[-1] == i:\n",
    "        pass\n",
    "    else:\n",
    "        new_num += i\n",
    "\n",
    "print(min((len(new_num) - sum(map(int, list(new_num)))), sum(map(int, list(new_num)))))"
   ]
  },
  {
   "cell_type": "code",
   "execution_count": 5,
   "metadata": {},
   "outputs": [
    {
     "output_type": "execute_result",
     "data": {
      "text/plain": [
       "''"
      ]
     },
     "metadata": {},
     "execution_count": 5
    }
   ],
   "source": [
    "a = '0'\n",
    "a[1:]"
   ]
  },
  {
   "cell_type": "code",
   "execution_count": null,
   "metadata": {},
   "outputs": [],
   "source": []
  }
 ]
}