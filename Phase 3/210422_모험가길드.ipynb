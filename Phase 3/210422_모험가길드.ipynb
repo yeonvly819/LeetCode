{
 "metadata": {
  "language_info": {
   "codemirror_mode": {
    "name": "ipython",
    "version": 3
   },
   "file_extension": ".py",
   "mimetype": "text/x-python",
   "name": "python",
   "nbconvert_exporter": "python",
   "pygments_lexer": "ipython3",
   "version": "3.7.9"
  },
  "orig_nbformat": 2,
  "kernelspec": {
   "name": "python379jvsc74a57bd0b3ba2566441a7c06988d0923437866b63cedc61552a5af99d1f4fb67d367b25f",
   "display_name": "Python 3.7.9 64-bit (conda)"
  }
 },
 "nbformat": 4,
 "nbformat_minor": 2,
 "cells": [
  {
   "cell_type": "code",
   "execution_count": 37,
   "metadata": {},
   "outputs": [
    {
     "output_type": "stream",
     "name": "stdout",
     "text": [
      "original X [4, 3, 3, 3, 3, 3]\nlen X 6\nrevised X [3, 3]\nrevised len 2\noriginal X [3, 3]\nlen X 2\n1\n"
     ]
    }
   ],
   "source": [
    "N = int(input())\n",
    "\n",
    "X = list(map(int, input().split()))\n",
    "\n",
    "X.sort(reverse=True)\n",
    "\n",
    "count = 0\n",
    "\n",
    "for _ in X:\n",
    "    print('original X', X)\n",
    "    first = X[0]\n",
    "    print('len X', len(X))\n",
    "    if len(X) >= first:\n",
    "        del(X[:first])\n",
    "        print('revised X', X)\n",
    "        count += 1\n",
    "        print('revised len', len(X))\n",
    "    else:\n",
    "        pass\n",
    "\n",
    "try:\n",
    "    if X[0] == 1:\n",
    "        count += 1\n",
    "except:\n",
    "    pass\n",
    "\n",
    "print(count)"
   ]
  },
  {
   "cell_type": "code",
   "execution_count": 25,
   "metadata": {},
   "outputs": [],
   "source": [
    "a = [1, 2, 3, 2, 2, 3]\n",
    "a.sort(reverse=True)"
   ]
  },
  {
   "cell_type": "code",
   "execution_count": 26,
   "metadata": {},
   "outputs": [
    {
     "output_type": "stream",
     "name": "stdout",
     "text": [
      "[3, 3, 2, 2, 2, 1]\n[2, 2, 1]\n--\n[2, 2, 1]\n[1]\n--\n"
     ]
    }
   ],
   "source": [
    "for _ in a:\n",
    "    first = a[0]\n",
    "    print(a)\n",
    "    del(a[:first])\n",
    "    print(a)\n",
    "    print('--')"
   ]
  },
  {
   "cell_type": "code",
   "execution_count": 27,
   "metadata": {},
   "outputs": [
    {
     "output_type": "execute_result",
     "data": {
      "text/plain": [
       "[1]"
      ]
     },
     "metadata": {},
     "execution_count": 27
    }
   ],
   "source": [
    "a"
   ]
  },
  {
   "cell_type": "code",
   "execution_count": null,
   "metadata": {},
   "outputs": [],
   "source": []
  }
 ]
}