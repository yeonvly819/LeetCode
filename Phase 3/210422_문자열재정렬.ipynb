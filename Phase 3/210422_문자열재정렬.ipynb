{
 "metadata": {
  "language_info": {
   "codemirror_mode": {
    "name": "ipython",
    "version": 3
   },
   "file_extension": ".py",
   "mimetype": "text/x-python",
   "name": "python",
   "nbconvert_exporter": "python",
   "pygments_lexer": "ipython3",
   "version": "3.7.9"
  },
  "orig_nbformat": 2,
  "kernelspec": {
   "name": "python379jvsc74a57bd0b3ba2566441a7c06988d0923437866b63cedc61552a5af99d1f4fb67d367b25f",
   "display_name": "Python 3.7.9 64-bit (conda)"
  }
 },
 "nbformat": 4,
 "nbformat_minor": 2,
 "cells": [
  {
   "cell_type": "code",
   "execution_count": 2,
   "metadata": {},
   "outputs": [
    {
     "output_type": "stream",
     "name": "stdout",
     "text": [
      "ADDIJJJKKLSS20\n"
     ]
    }
   ],
   "source": [
    "S = input()\n",
    "\n",
    "w = ''\n",
    "n = 0\n",
    "\n",
    "for i in S:\n",
    "    try:\n",
    "        if int(i):\n",
    "            n += int(i)\n",
    "    except:\n",
    "        w += i\n",
    "\n",
    "w = ''.join(sorted(list(w), reverse=False))\n",
    "\n",
    "print(w + str(n))"
   ]
  },
  {
   "cell_type": "code",
   "execution_count": null,
   "metadata": {},
   "outputs": [],
   "source": []
  }
 ]
}