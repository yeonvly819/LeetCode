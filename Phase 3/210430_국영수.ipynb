{
 "metadata": {
  "language_info": {
   "codemirror_mode": {
    "name": "ipython",
    "version": 3
   },
   "file_extension": ".py",
   "mimetype": "text/x-python",
   "name": "python",
   "nbconvert_exporter": "python",
   "pygments_lexer": "ipython3",
   "version": "3.7.9"
  },
  "orig_nbformat": 2,
  "kernelspec": {
   "name": "python379jvsc74a57bd0b3ba2566441a7c06988d0923437866b63cedc61552a5af99d1f4fb67d367b25f",
   "display_name": "Python 3.7.9 64-bit (conda)"
  }
 },
 "nbformat": 4,
 "nbformat_minor": 2,
 "cells": [
  {
   "cell_type": "code",
   "execution_count": 6,
   "metadata": {},
   "outputs": [
    {
     "output_type": "stream",
     "name": "stdout",
     "text": [
      "Donghyuk\nSangkeun\nSunyoung\nnsj\nWonseob\nSanghyun\nSei\nKangsoo\nHaebin\nJunkyu\nSoong\nTaewhan\n"
     ]
    }
   ],
   "source": [
    "import sys\n",
    "sys.stdin = open('input.txt', 'r')\n",
    "\n",
    "N = int(input())\n",
    "sys.stdin.readline()\n",
    "\n",
    "name_score = []\n",
    "\n",
    "for _ in range(N):\n",
    "    data = list(sys.stdin.readline().replace('\\n', '').split())\n",
    "\n",
    "    name_score.append([data[0], int(data[1]), int(data[2]), int(data[3])]) # 이름은 str 그대로, 점수는 int로 변환\n",
    "\n",
    "result = sorted(name_score, key=lambda x: (-x[1], x[2], -x[3], x[0])) # 비교할 아이템의 요소가 복수 개인 경우, 튜플로 그 순서를 보내줌; -를 붙이면 내림차순 정렬\n",
    "\n",
    "for i in result:\n",
    "    print(i[0])"
   ]
  },
  {
   "cell_type": "code",
   "execution_count": null,
   "metadata": {},
   "outputs": [],
   "source": []
  }
 ]
}