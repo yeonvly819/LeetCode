{
 "metadata": {
  "language_info": {
   "codemirror_mode": {
    "name": "ipython",
    "version": 3
   },
   "file_extension": ".py",
   "mimetype": "text/x-python",
   "name": "python",
   "nbconvert_exporter": "python",
   "pygments_lexer": "ipython3",
   "version": "3.7.9"
  },
  "orig_nbformat": 2,
  "kernelspec": {
   "name": "python379jvsc74a57bd0b3ba2566441a7c06988d0923437866b63cedc61552a5af99d1f4fb67d367b25f",
   "display_name": "Python 3.7.9 64-bit (conda)"
  }
 },
 "nbformat": 4,
 "nbformat_minor": 2,
 "cells": [
  {
   "cell_type": "code",
   "execution_count": 4,
   "metadata": {
    "tags": []
   },
   "outputs": [
    {
     "output_type": "stream",
     "name": "stdout",
     "text": [
      "2\n"
     ]
    }
   ],
   "source": [
    "N = int(input())\n",
    "\n",
    "seq = list(map(int, input().split()))\n",
    "\n",
    "start = 0\n",
    "end = len(seq) - 1\n",
    "\n",
    "while start <= end:\n",
    "    mid = (start + end) // 2\n",
    "\n",
    "    if seq[mid] == mid:\n",
    "        print(mid)\n",
    "        break\n",
    "    elif seq[mid] > mid:\n",
    "        end = mid - 1\n",
    "    else:\n",
    "        start = mid + 1\n",
    "else:\n",
    "    print(-1)"
   ]
  },
  {
   "cell_type": "code",
   "execution_count": null,
   "metadata": {},
   "outputs": [],
   "source": [
    "-15 -6 1 3 7\n",
    "-15 -4 2 8 9 13 15\n",
    "-14 -4 3 8 9 13 15\n",
    "-15 -7 0 3 7 9 10"
   ]
  },
  {
   "cell_type": "code",
   "execution_count": 5,
   "metadata": {},
   "outputs": [
    {
     "output_type": "stream",
     "name": "stdout",
     "text": [
      "-1\n"
     ]
    }
   ],
   "source": [
    "# 여은\n",
    "\n",
    "n = int(input())\n",
    "array = list(map(int, input().split()))\n",
    "\n",
    "def fixed_pnt(array, start, end):\n",
    "    if start > end:\n",
    "        return None\n",
    "\n",
    "    mid = (start+end)//2\n",
    "    if array[mid] == mid:\n",
    "        return mid\n",
    "    elif array[mid]>mid:\n",
    "        fixed_pnt(array, start, mid-1)\n",
    "    else:\n",
    "        fixed_pnt(array, mid+1, end)\n",
    "\n",
    "result = fixed_pnt(array, 0, n-1)\n",
    "if result == None:\n",
    "    print(-1)\n",
    "else:\n",
    "    print(result)"
   ]
  },
  {
   "cell_type": "code",
   "execution_count": null,
   "metadata": {},
   "outputs": [],
   "source": []
  }
 ]
}