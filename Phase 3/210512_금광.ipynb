{
 "metadata": {
  "language_info": {
   "codemirror_mode": {
    "name": "ipython",
    "version": 3
   },
   "file_extension": ".py",
   "mimetype": "text/x-python",
   "name": "python",
   "nbconvert_exporter": "python",
   "pygments_lexer": "ipython3",
   "version": "3.7.9"
  },
  "orig_nbformat": 2,
  "kernelspec": {
   "name": "python379jvsc74a57bd0b3ba2566441a7c06988d0923437866b63cedc61552a5af99d1f4fb67d367b25f",
   "display_name": "Python 3.7.9 64-bit ('base': conda)"
  }
 },
 "nbformat": 4,
 "nbformat_minor": 2,
 "cells": [
  {
   "cell_type": "code",
   "execution_count": 10,
   "metadata": {},
   "outputs": [
    {
     "output_type": "stream",
     "name": "stdout",
     "text": [
      "['3 4\\n', '1 3 3 2 2 1 4 1 0 6 4 7\\n', '4 4\\n', '1 3 1 5 2 2 4 1 5 0 2 3 0 6 1 2']\n"
     ]
    }
   ],
   "source": [
    "import sys\n",
    "sys.stdin = open('금광.txt', 'r')\n",
    "\n",
    "N = sys.stdin.readline().strip()\n",
    "\n",
    "gold = sys.stdin.readlines()\n",
    "print(gold)"
   ]
  },
  {
   "cell_type": "code",
   "execution_count": null,
   "metadata": {},
   "outputs": [],
   "source": [
    "p = [0] * 30001\n",
    "\n",
    "for i in range(n):\n",
    "    if i == 0:\n",
    "        \n"
   ]
  },
  {
   "cell_type": "code",
   "execution_count": 12,
   "metadata": {},
   "outputs": [
    {
     "output_type": "stream",
     "name": "stdout",
     "text": [
      "['1', '3', '1', '5', '2', '2', '4', '1', '5', '0', '2', '3', '0', '6', '1', '2']\n"
     ]
    }
   ],
   "source": [
    "temp = input().split()\n",
    "print(temp)"
   ]
  },
  {
   "cell_type": "code",
   "execution_count": 14,
   "metadata": {},
   "outputs": [
    {
     "output_type": "execute_result",
     "data": {
      "text/plain": [
       "[['1', '3', '1', '5'],\n",
       " ['2', '2', '4', '1'],\n",
       " ['5', '0', '2', '3'],\n",
       " ['0', '6', '1', '2']]"
      ]
     },
     "metadata": {},
     "execution_count": 14
    }
   ],
   "source": [
    "temp2 = [temp[n:n+4] for n in range(0, len(temp), 4)]\n",
    "temp2"
   ]
  },
  {
   "cell_type": "code",
   "execution_count": 3,
   "metadata": {},
   "outputs": [
    {
     "output_type": "execute_result",
     "data": {
      "text/plain": [
       "[['1', '3', '1', '5'],\n",
       " ['2', '2', '4', '1'],\n",
       " ['5', '0', '2', '3'],\n",
       " ['0', '6', '1', '2']]"
      ]
     },
     "metadata": {},
     "execution_count": 3
    }
   ],
   "source": [
    "m = 4\n",
    "arr = ['1', '3', '1', '5', '2', '2', '4', '1', '5', '0', '2', '3', '0', '6', '1', '2']\n",
    "arr2 = [arr[i:i+m] for i in range(0, len(arr), m)]\n",
    "arr2"
   ]
  },
  {
   "cell_type": "code",
   "execution_count": null,
   "metadata": {},
   "outputs": [],
   "source": [
    "subList = [theList[n:n+N] for n in range(0, len(theList), N)]\r\n",
    "\r\n",
    ">>> theList = list(range(10))\r\n",
    ">>> N = 3\r\n",
    ">>> subList = [theList[n:n+N] for n in range(0, len(theList), N)]\r\n",
    ">>> subList\r\n",
    "[[0, 1, 2], [3, 4, 5], [6, 7, 8], [9]]"
   ]
  },
  {
   "cell_type": "code",
   "execution_count": null,
   "metadata": {},
   "outputs": [],
   "source": [
    "import sys\n",
    "sys.stdin = open('input.txt', 'r')\n",
    "\n",
    "N = int(input())\n",
    "sys.stdin.readline()\n",
    "\n",
    "name_score = []\n",
    "\n",
    "for _ in range(N):\n",
    "    data = list(sys.stdin.readline().replace('\\n', '').split())\n",
    "\n",
    "    name_score.append([data[0], int(data[1]), int(data[2]), int(data[3])]) # 이름은 str 그대로, 점수는 int로 변환\n",
    "\n",
    "result = sorted(name_score, key=lambda x: (-x[1], x[2], -x[3], x[0])) # 비교할 아이템의 요소가 복수 개인 경우, 튜플로 그 순서를 보내줌; -를 붙이면 내림차순 정렬\n",
    "\n",
    "for i in result:\n",
    "    print(i[0])"
   ]
  },
  {
   "cell_type": "code",
   "execution_count": 7,
   "metadata": {},
   "outputs": [
    {
     "output_type": "stream",
     "name": "stdout",
     "text": [
      "n x m: 3 4\narr: [[1, 3, 3, 2], [2, 1, 4, 1], [0, 6, 4, 7]]\nj: 1 // i: 0\nj: 1 // i: 1\nj: 1 // i: 2\n"
     ]
    },
    {
     "output_type": "error",
     "ename": "IndexError",
     "evalue": "list index out of range",
     "traceback": [
      "\u001b[1;31m---------------------------------------------------------------------------\u001b[0m",
      "\u001b[1;31mIndexError\u001b[0m                                Traceback (most recent call last)",
      "\u001b[1;32m<ipython-input-7-3986641502dc>\u001b[0m in \u001b[0;36m<module>\u001b[1;34m\u001b[0m\n\u001b[0;32m     12\u001b[0m             \u001b[0mprint\u001b[0m\u001b[1;33m(\u001b[0m\u001b[1;34m'j:'\u001b[0m\u001b[1;33m,\u001b[0m \u001b[0mj\u001b[0m\u001b[1;33m,\u001b[0m \u001b[1;34m'//'\u001b[0m\u001b[1;33m,\u001b[0m \u001b[1;34m'i:'\u001b[0m\u001b[1;33m,\u001b[0m \u001b[0mi\u001b[0m\u001b[1;33m)\u001b[0m\u001b[1;33m\u001b[0m\u001b[1;33m\u001b[0m\u001b[0m\n\u001b[0;32m     13\u001b[0m \u001b[1;33m\u001b[0m\u001b[0m\n\u001b[1;32m---> 14\u001b[1;33m             \u001b[0marr\u001b[0m\u001b[1;33m[\u001b[0m\u001b[0mi\u001b[0m\u001b[1;33m]\u001b[0m\u001b[1;33m[\u001b[0m\u001b[0mj\u001b[0m\u001b[1;33m]\u001b[0m \u001b[1;33m=\u001b[0m \u001b[0mmax\u001b[0m\u001b[1;33m(\u001b[0m\u001b[0marr\u001b[0m\u001b[1;33m[\u001b[0m\u001b[0mi\u001b[0m\u001b[1;33m-\u001b[0m\u001b[1;36m1\u001b[0m\u001b[1;33m]\u001b[0m\u001b[1;33m[\u001b[0m\u001b[0mj\u001b[0m\u001b[1;33m-\u001b[0m\u001b[1;36m1\u001b[0m\u001b[1;33m]\u001b[0m\u001b[1;33m,\u001b[0m \u001b[0marr\u001b[0m\u001b[1;33m[\u001b[0m\u001b[0mi\u001b[0m\u001b[1;33m]\u001b[0m\u001b[1;33m[\u001b[0m\u001b[0mj\u001b[0m\u001b[1;33m-\u001b[0m\u001b[1;36m1\u001b[0m\u001b[1;33m]\u001b[0m\u001b[1;33m,\u001b[0m \u001b[0marr\u001b[0m\u001b[1;33m[\u001b[0m\u001b[0mi\u001b[0m\u001b[1;33m+\u001b[0m\u001b[1;36m1\u001b[0m\u001b[1;33m]\u001b[0m\u001b[1;33m[\u001b[0m\u001b[0mj\u001b[0m\u001b[1;33m-\u001b[0m\u001b[1;36m1\u001b[0m\u001b[1;33m]\u001b[0m\u001b[1;33m)\u001b[0m \u001b[1;31m# 0, 1에서 시작, (n, m-1)에서 멈춤\u001b[0m\u001b[1;33m\u001b[0m\u001b[1;33m\u001b[0m\u001b[0m\n\u001b[0m\u001b[0;32m     15\u001b[0m \u001b[1;33m\u001b[0m\u001b[0m\n\u001b[0;32m     16\u001b[0m     \u001b[0mprint\u001b[0m\u001b[1;33m(\u001b[0m\u001b[0mmax\u001b[0m\u001b[1;33m(\u001b[0m\u001b[0marr\u001b[0m\u001b[1;33m[\u001b[0m\u001b[0mn\u001b[0m\u001b[1;33m]\u001b[0m\u001b[1;33m)\u001b[0m\u001b[1;33m)\u001b[0m\u001b[1;33m\u001b[0m\u001b[1;33m\u001b[0m\u001b[0m\n",
      "\u001b[1;31mIndexError\u001b[0m: list index out of range"
     ]
    }
   ],
   "source": [
    "t = int(input())\n",
    "\n",
    "for _ in range(t):\n",
    "    n, m = map(int, input().split())\n",
    "    arr = list(map(int, input().split()))\n",
    "    arr = [arr[m*i:m*(i+1)] for i in range(n)]\n",
    "    print('n x m:', n, m)\n",
    "    print('arr:', arr)\n",
    "\n",
    "    for j in range(1, m):\n",
    "        for i in range(n):\n",
    "            print('j:', j, '//', 'i:', i)\n",
    "\n",
    "            arr[i][j] = max(arr[i-1][j-1], arr[i][j-1], arr[i+1][j-1]) # 0, 1에서 시작, (n, m-1)에서 멈춤\n",
    "\n",
    "    print(max(arr[n]))\n"
   ]
  },
  {
   "cell_type": "code",
   "execution_count": null,
   "metadata": {},
   "outputs": [],
   "source": [
    "for j in range(1, m):\n",
    "    for i in range(n):\n",
    "        arr[i][j] = max(arr[i-1][j-1], arr[i][j-1], arr[i+1][j-1]) # 0, 1에서 시작, (n, m-1)에서 멈춤\n",
    "\n",
    "print(max(arr[n]))"
   ]
  }
 ]
}