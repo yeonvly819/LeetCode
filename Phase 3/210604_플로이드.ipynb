{
 "metadata": {
  "language_info": {
   "codemirror_mode": {
    "name": "ipython",
    "version": 3
   },
   "file_extension": ".py",
   "mimetype": "text/x-python",
   "name": "python",
   "nbconvert_exporter": "python",
   "pygments_lexer": "ipython3",
   "version": "3.7.9"
  },
  "orig_nbformat": 2,
  "kernelspec": {
   "name": "python379jvsc74a57bd0b3ba2566441a7c06988d0923437866b63cedc61552a5af99d1f4fb67d367b25f",
   "display_name": "Python 3.7.9 64-bit ('base': conda)"
  }
 },
 "nbformat": 4,
 "nbformat_minor": 2,
 "cells": [
  {
   "cell_type": "code",
   "execution_count": 8,
   "metadata": {},
   "outputs": [
    {
     "output_type": "stream",
     "name": "stdout",
     "text": [
      "0 2 3 1 4 \n12 0 15 2 5 \n8 5 0 1 1 \n10 7 13 0 3 \n7 4 10 6 0 \n[[1000000000, 1000000000, 1000000000, 1000000000, 1000000000, 1000000000], [1000000000, 0, 2, 3, 1, 4], [1000000000, 12, 0, 15, 2, 5], [1000000000, 8, 5, 0, 1, 1], [1000000000, 10, 7, 13, 0, 3], [1000000000, 7, 4, 10, 6, 0]]\n"
     ]
    }
   ],
   "source": [
    "INF = int(1e9)\n",
    "\n",
    "n = int(input()) # 도시 개수\n",
    "m = int(input()) # 버스 개수\n",
    "\n",
    "\n",
    "# 2차원 리스트 만들고 모든 값을 무한으로 초기화\n",
    "graph = [[INF] * (n + 1) for _ in range(n + 1)]\n",
    "\n",
    "# 자기 자신에서 자기 자신으로 가는 경우의 비용은 0으로 변경\n",
    "for a in range(1, n + 1):\n",
    "    for b in range(1, n + 1):\n",
    "        if a == b:\n",
    "            graph[a][b] = 0\n",
    "\n",
    "# 버스에 대한 정보를 입력받아서 그 값으로 변경\n",
    "for _ in range(m):\n",
    "    # a에서 b로 가는 버스 비용은 c\n",
    "    a, b, c = map(int, input().split())\n",
    "    if graph[a][b] >= c:\n",
    "        graph[a][b] = c\n",
    "    else:\n",
    "        pass\n",
    "\n",
    "# 플로이드 워셜 알고리즘 수행\n",
    "for i in range(1, n + 1):\n",
    "    for a in range(1, n + 1):\n",
    "        for b in range(1, n + 1):\n",
    "            graph[a][b] = min(graph[a][b], graph[a][i] + graph[i][b])\n",
    "\n",
    "# 결과\n",
    "for a in range(1, n + 1):\n",
    "    for b in range(1, n + 1):\n",
    "        if graph[a][b] == INF:\n",
    "            print('INFINITY', end = ' ')\n",
    "        else:\n",
    "            print(graph[a][b], end = ' ')\n",
    "    print()"
   ]
  },
  {
   "cell_type": "code",
   "execution_count": null,
   "metadata": {},
   "outputs": [],
   "source": []
  }
 ]
}