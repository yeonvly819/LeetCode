{
 "metadata": {
  "language_info": {
   "codemirror_mode": {
    "name": "ipython",
    "version": 3
   },
   "file_extension": ".py",
   "mimetype": "text/x-python",
   "name": "python",
   "nbconvert_exporter": "python",
   "pygments_lexer": "ipython3",
   "version": "3.7.9-final"
  },
  "orig_nbformat": 2,
  "kernelspec": {
   "name": "python3",
   "display_name": "Python 3.7.9 64-bit (conda)",
   "metadata": {
    "interpreter": {
     "hash": "b3ba2566441a7c06988d0923437866b63cedc61552a5af99d1f4fb67d367b25f"
    }
   }
  }
 },
 "nbformat": 4,
 "nbformat_minor": 2,
 "cells": [
  {
   "cell_type": "code",
   "execution_count": 3,
   "metadata": {},
   "outputs": [
    {
     "output_type": "execute_result",
     "data": {
      "text/plain": [
       "[7, 6, 5, 4, 3, 1]"
      ]
     },
     "metadata": {},
     "execution_count": 3
    }
   ],
   "source": [
    "a = [7, 1, 5, 3, 6, 4]\n",
    "sorted(a, reverse=True)"
   ]
  },
  {
   "cell_type": "code",
   "execution_count": 4,
   "metadata": {},
   "outputs": [
    {
     "output_type": "execute_result",
     "data": {
      "text/plain": [
       "[7, 1, 5, 3, 6, 4]"
      ]
     },
     "metadata": {},
     "execution_count": 4
    }
   ],
   "source": [
    "a"
   ]
  },
  {
   "cell_type": "code",
   "execution_count": 17,
   "metadata": {},
   "outputs": [
    {
     "output_type": "execute_result",
     "data": {
      "text/plain": [
       "[1, 3, 4, 5, 6, 7]"
      ]
     },
     "metadata": {},
     "execution_count": 17
    }
   ],
   "source": [
    "a.sort()\n",
    "a"
   ]
  },
  {
   "cell_type": "code",
   "execution_count": 18,
   "metadata": {},
   "outputs": [
    {
     "output_type": "execute_result",
     "data": {
      "text/plain": [
       "[1, 3, 4, 5, 6, 7]"
      ]
     },
     "metadata": {},
     "execution_count": 18
    }
   ],
   "source": [
    "a"
   ]
  },
  {
   "cell_type": "code",
   "execution_count": 15,
   "metadata": {},
   "outputs": [
    {
     "output_type": "stream",
     "name": "stdout",
     "text": [
      "1 element is: 1\nend of j\n2 element is: 6\nend of j\n3 element is: 4\nend of j\n4 element is: 3\nend of j\n5 element is: 6\nend of j\n6 element is: 7\nend of j\ncurrent i is 7 this is end of i\n2 element is: 6\nend of j\n3 element is: 4\nend of j\n4 element is: 3\nend of j\n5 element is: 6\nend of j\n6 element is: 7\nend of j\ncurrent i is 1 this is end of i\n3 element is: 4\nend of j\n4 element is: 3\nend of j\n5 element is: 6\nend of j\n6 element is: 7\nend of j\ncurrent i is 6 this is end of i\n4 element is: 3\nend of j\n5 element is: 6\nend of j\n6 element is: 7\nend of j\ncurrent i is 4 this is end of i\n5 element is: 6\nend of j\n6 element is: 7\nend of j\ncurrent i is 3 this is end of i\n6 element is: 7\nend of j\ncurrent i is 6 this is end of i\n"
     ]
    }
   ],
   "source": [
    "b = [7, 1, 6, 4, 3, 6, 7]\n",
    "\n",
    "for i in range(len(b) - 1):\n",
    "    for j in range(i+1,len(b)):\n",
    "        print(j, 'element is:', b[j])\n",
    "        print('end of j')\n",
    "    print('current i is', b[i], 'this is end of i')"
   ]
  },
  {
   "cell_type": "code",
   "execution_count": 27,
   "metadata": {},
   "outputs": [
    {
     "output_type": "execute_result",
     "data": {
      "text/plain": [
       "[7, 6, 5, 4, 3, 1]"
      ]
     },
     "metadata": {},
     "execution_count": 27
    }
   ],
   "source": [
    "prices = [7,1,5,3,6,4]\n",
    "\n",
    "prices.sort(reverse=True)\n",
    "prices"
   ]
  },
  {
   "cell_type": "code",
   "execution_count": 28,
   "metadata": {},
   "outputs": [],
   "source": [
    "from typing import List\n",
    "\n",
    "class Solution:\n",
    "    def maxProfit(self, prices: List[int]) -> int:\n",
    "        profits = []\n",
    "        if prices == sorted(prices, reverse=True):\n",
    "            return 0\n",
    "        else:\n",
    "            for i in range(len(prices) - 1):\n",
    "                for j in range(i + 1, len(prices)):\n",
    "                    if i > j:\n",
    "                        pass\n",
    "                    else:\n",
    "                        profit = j - i\n",
    "                        profits.append(profit)\n",
    "            return max(profits)"
   ]
  },
  {
   "cell_type": "code",
   "execution_count": 29,
   "metadata": {},
   "outputs": [
    {
     "output_type": "execute_result",
     "data": {
      "text/plain": [
       "0"
      ]
     },
     "metadata": {},
     "execution_count": 29
    }
   ],
   "source": [
    "result = Solution()\n",
    "result.maxProfit([[7,6,4,3,1]])"
   ]
  },
  {
   "cell_type": "code",
   "execution_count": 40,
   "metadata": {},
   "outputs": [
    {
     "output_type": "stream",
     "name": "stdout",
     "text": [
      "j 1 element 2\ni 0 element 1\n-\nj 2 element 3\ni 0 element 1\n-\nj 3 element 4\ni 0 element 1\n-\nj 4 element 5\ni 0 element 1\n-\nj 2 element 3\ni 1 element 2\n-\nj 3 element 4\ni 1 element 2\n-\nj 4 element 5\ni 1 element 2\n-\nj 3 element 4\ni 2 element 3\n-\nj 4 element 5\ni 2 element 3\n-\nj 4 element 5\ni 3 element 4\n-\n"
     ]
    }
   ],
   "source": [
    "a = [1, 2, 3, 4, 5]\n",
    "\n",
    "for i in range(len(a) - 1):\n",
    "    for j in range(i + 1, len(a)):\n",
    "        print('j', j, 'element', a[j])\n",
    "        print('i', i, 'element', a[i])\n",
    "        print('-')"
   ]
  },
  {
   "cell_type": "code",
   "execution_count": 68,
   "metadata": {},
   "outputs": [
    {
     "output_type": "stream",
     "name": "stdout",
     "text": [
      "[5]\n--\n[5, 1]\n--\n[5, 1, 3]\n--\n5\n"
     ]
    }
   ],
   "source": [
    "prices = [7,1,5,3,6,4]\n",
    "profits = []\n",
    "\n",
    "for i in range(len(prices) - 1):\n",
    "    if prices[i] <= max(prices[i+1:]):\n",
    "        profit = max(prices[i+1:]) - prices[i]\n",
    "        profits.append(profit)\n",
    "        print(profits)\n",
    "        print('--')\n",
    "\n",
    "print(max(profits))"
   ]
  },
  {
   "cell_type": "code",
   "execution_count": 16,
   "metadata": {},
   "outputs": [],
   "source": [
    "from typing import List\n",
    "\n",
    "class Solution:\n",
    "    def maxProfit(self, prices: List[int]) -> int:\n",
    "\n",
    "        profits = [0]\n",
    "\n",
    "        for i in range(len(prices) - 1):\n",
    "            if prices[i] <= max(prices[i+1:]):\n",
    "                profit = max(prices[i+1:]) - prices[i]\n",
    "                profits.append(profit)\n",
    "        return max(profits)"
   ]
  },
  {
   "cell_type": "code",
   "execution_count": 18,
   "metadata": {},
   "outputs": [
    {
     "output_type": "execute_result",
     "data": {
      "text/plain": [
       "3"
      ]
     },
     "metadata": {},
     "execution_count": 18
    }
   ],
   "source": [
    "result = Solution()\n",
    "result.maxProfit([1,2,4])"
   ]
  },
  {
   "cell_type": "code",
   "execution_count": null,
   "metadata": {},
   "outputs": [],
   "source": []
  },
  {
   "cell_type": "code",
   "execution_count": null,
   "metadata": {},
   "outputs": [],
   "source": [
    "# 명한's code\n",
    "\n",
    "class Solution:\n",
    "    def maxProfit(self, prices: List[int]) -> int:\n",
    "        max_idx = 0\n",
    "        max_price = 0\n",
    "        min_idx = 0\n",
    "        min_price = prices[0]\n",
    "        profit_list = []\n",
    "        for i in range(1, len(prices)):\n",
    "            if prices[i] >= max_price: # max_price가 같은 경우라도 date를 나중으로 업데이트시켜줘야함.(> -> >=)\n",
    "                # Edge Case : [2,1,2,1,0,1,2]\n",
    "                max_price = prices[i]\n",
    "                max_idx = i\n",
    "            if prices[i] < min_price: # min_price는 같은 경우 앞 날짜를 유지시키는게 좋으므로, 더 낮은 경우가 아니면 업데이트 X. \n",
    "                min_price = prices[i]\n",
    "                min_idx = i\n",
    "            if max_idx > min_idx:\n",
    "                profit_list.append(max_price - min_price)\n",
    "\n",
    "            else: # Edge Case : [3,3,5,0,0,3,1,4]\n",
    "                max_price = 0 # max_idx < min_idx 일때, max_price = 0으로 해서 다시 뒷 날짜의 max_price가 나오게끔 해야함. \n",
    "        if len(profit_list) == 0:\n",
    "            return 0\n",
    "        else:\n",
    "            return max(profit_list)"
   ]
  }
 ]
}