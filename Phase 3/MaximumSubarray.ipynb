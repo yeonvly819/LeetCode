{
 "metadata": {
  "language_info": {
   "codemirror_mode": {
    "name": "ipython",
    "version": 3
   },
   "file_extension": ".py",
   "mimetype": "text/x-python",
   "name": "python",
   "nbconvert_exporter": "python",
   "pygments_lexer": "ipython3",
   "version": "3.7.9-final"
  },
  "orig_nbformat": 2,
  "kernelspec": {
   "name": "python379jvsc74a57bd0b3ba2566441a7c06988d0923437866b63cedc61552a5af99d1f4fb67d367b25f",
   "display_name": "Python 3.7.9 64-bit (conda)"
  }
 },
 "nbformat": 4,
 "nbformat_minor": 2,
 "cells": [
  {
   "cell_type": "code",
   "execution_count": null,
   "metadata": {},
   "outputs": [],
   "source": [
    "nums = [-2,1,-3,4,-1,2,1,-5,4]\n",
    "\n"
   ]
  },
  {
   "cell_type": "code",
   "execution_count": 1,
   "metadata": {},
   "outputs": [
    {
     "output_type": "execute_result",
     "data": {
      "text/plain": [
       "6"
      ]
     },
     "metadata": {},
     "execution_count": 1
    }
   ],
   "source": [
    "sum([1, 2, 3])"
   ]
  },
  {
   "cell_type": "code",
   "execution_count": 2,
   "metadata": {},
   "outputs": [],
   "source": [
    "vertex = ['A', 'B', 'C', 'D', 'E', 'F', 'G', 'H']\n",
    "\n",
    "adj_list = {\n",
    "    'A':['B', 'C'],\n",
    "    'B':['A', 'D'],\n",
    "    'C':['A', 'D', 'E'],\n",
    "    'D':['B', 'C', 'F'],\n",
    "    'E':['C', 'G', 'H'],\n",
    "    'F':['D'],\n",
    "    'G':['E', 'H'],\n",
    "    'H':['E', 'G']\n",
    "}"
   ]
  },
  {
   "cell_type": "code",
   "execution_count": 8,
   "metadata": {},
   "outputs": [],
   "source": [
    "def DFS(graph, start, visited=[]):\n",
    "    print('start visited:', visited)\n",
    "    print('start is:', start)\n",
    "    visited.append(start)\n",
    "    print('after append visited:', visited)\n",
    "\n",
    "    for cur_node in sorted(set(graph[start]) - set(visited)):\n",
    "        print('cur_node is:', cur_node)\n",
    "        print('===')\n",
    "        if cur_node not in visited:\n",
    "            DFS(graph, cur_node, visited)\n",
    "    \n",
    "    return visited"
   ]
  },
  {
   "cell_type": "code",
   "execution_count": 9,
   "metadata": {},
   "outputs": [
    {
     "output_type": "stream",
     "name": "stdout",
     "text": [
      "start visited: []\nstart is: A\nafter append visited: ['A']\ncur_node is: B\n===\nstart visited: ['A']\nstart is: B\nafter append visited: ['A', 'B']\ncur_node is: D\n===\nstart visited: ['A', 'B']\nstart is: D\nafter append visited: ['A', 'B', 'D']\ncur_node is: C\n===\nstart visited: ['A', 'B', 'D']\nstart is: C\nafter append visited: ['A', 'B', 'D', 'C']\ncur_node is: E\n===\nstart visited: ['A', 'B', 'D', 'C']\nstart is: E\nafter append visited: ['A', 'B', 'D', 'C', 'E']\ncur_node is: G\n===\nstart visited: ['A', 'B', 'D', 'C', 'E']\nstart is: G\nafter append visited: ['A', 'B', 'D', 'C', 'E', 'G']\ncur_node is: H\n===\nstart visited: ['A', 'B', 'D', 'C', 'E', 'G']\nstart is: H\nafter append visited: ['A', 'B', 'D', 'C', 'E', 'G', 'H']\ncur_node is: H\n===\ncur_node is: F\n===\nstart visited: ['A', 'B', 'D', 'C', 'E', 'G', 'H']\nstart is: F\nafter append visited: ['A', 'B', 'D', 'C', 'E', 'G', 'H', 'F']\ncur_node is: C\n===\n"
     ]
    },
    {
     "output_type": "execute_result",
     "data": {
      "text/plain": [
       "['A', 'B', 'D', 'C', 'E', 'G', 'H', 'F']"
      ]
     },
     "metadata": {},
     "execution_count": 9
    }
   ],
   "source": [
    "DFS(adj_list, 'A')"
   ]
  },
  {
   "cell_type": "code",
   "execution_count": null,
   "metadata": {},
   "outputs": [],
   "source": []
  }
 ]
}