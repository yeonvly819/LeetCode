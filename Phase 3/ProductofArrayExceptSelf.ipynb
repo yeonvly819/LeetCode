{
 "metadata": {
  "language_info": {
   "codemirror_mode": {
    "name": "ipython",
    "version": 3
   },
   "file_extension": ".py",
   "mimetype": "text/x-python",
   "name": "python",
   "nbconvert_exporter": "python",
   "pygments_lexer": "ipython3",
   "version": "3.7.9-final"
  },
  "orig_nbformat": 2,
  "kernelspec": {
   "name": "python379jvsc74a57bd0b3ba2566441a7c06988d0923437866b63cedc61552a5af99d1f4fb67d367b25f",
   "display_name": "Python 3.7.9 64-bit (conda)"
  }
 },
 "nbformat": 4,
 "nbformat_minor": 2,
 "cells": [
  {
   "cell_type": "code",
   "execution_count": 8,
   "metadata": {},
   "outputs": [
    {
     "output_type": "stream",
     "name": "stdout",
     "text": [
      "[2, 3, 4]\n1\nk: 24\nresult: [24]\n[1, 2, 3, 4]\n[1, 3, 4]\n2\nk: 12\nresult: [24, 12]\n[1, 2, 3, 4]\n[1, 2, 4]\n3\nk: 8\nresult: [24, 12, 8]\n[1, 2, 3, 4]\n[1, 2, 3]\n4\nk: 6\nresult: [24, 12, 8, 6]\n[1, 2, 3, 4]\n"
     ]
    }
   ],
   "source": [
    "# 1st trial - time limit exceeded\n",
    "\n",
    "a = [1, 2, 3, 4]\n",
    "result = []\n",
    "\n",
    "for i in range(len(a)):\n",
    "    b = a.pop(i)\n",
    "    print(a)\n",
    "    print(b)\n",
    "    k = 1\n",
    "    for j in a:\n",
    "        k = k * j\n",
    "    print('k:', k)\n",
    "    result.append(k)\n",
    "    print('result:', result)\n",
    "    a.insert(i, b)\n",
    "    print(a)"
   ]
  },
  {
   "cell_type": "code",
   "execution_count": 13,
   "metadata": {},
   "outputs": [
    {
     "output_type": "stream",
     "name": "stdout",
     "text": [
      "24\n[24, 12, 8, 6]\n"
     ]
    }
   ],
   "source": [
    "# 2nd trial\n",
    "\n",
    "a = [1, 2, 3, 4]\n",
    "result = []\n",
    "k = 1\n",
    "\n",
    "for i in a:\n",
    "    k = k * i\n",
    "\n",
    "for i in a:\n",
    "    a = k // i\n",
    "    result.append(a)\n",
    "\n",
    "print(k)\n",
    "print(result)"
   ]
  },
  {
   "cell_type": "code",
   "execution_count": 11,
   "metadata": {},
   "outputs": [
    {
     "output_type": "execute_result",
     "data": {
      "text/plain": [
       "12.0"
      ]
     },
     "metadata": {},
     "execution_count": 11
    }
   ],
   "source": [
    "24 / 2"
   ]
  },
  {
   "cell_type": "code",
   "execution_count": 16,
   "metadata": {},
   "outputs": [
    {
     "output_type": "execute_result",
     "data": {
      "text/plain": [
       "[0, 0, 0, 0, 0]"
      ]
     },
     "metadata": {},
     "execution_count": 16
    }
   ],
   "source": [
    "c = [0 for i in range(5)]\n",
    "c"
   ]
  },
  {
   "cell_type": "code",
   "execution_count": 3,
   "metadata": {},
   "outputs": [
    {
     "output_type": "stream",
     "name": "stdout",
     "text": [
      "[0, 0, 9, 0, 0]\n"
     ]
    }
   ],
   "source": [
    "# 2nd trial\n",
    "\n",
    "# a = [1,2,3,4]\n",
    "a = [-1,1,0,-3,3]\n",
    "result = []\n",
    "\n",
    "for i in range(len(a)):\n",
    "    b = a.pop(0)\n",
    "\n",
    "    k = 1\n",
    "    for j in a:\n",
    "        k = k * j\n",
    "    result.append(k)\n",
    "    a.append(b)\n",
    "\n",
    "print(result)"
   ]
  },
  {
   "cell_type": "code",
   "execution_count": null,
   "metadata": {},
   "outputs": [],
   "source": []
  },
  {
   "cell_type": "code",
   "execution_count": null,
   "metadata": {},
   "outputs": [],
   "source": [
    "# 명한's code\n",
    "\n",
    "class Solution():\n",
    "    def product(self, lst:List[int]) -> int:\n",
    "        product = 1\n",
    "        for i in lst:\n",
    "            if i == 0: # 미리 product 단계에서 0인 경우를 continue 시켜줘서 필요없는 연산을 없앤다.\n",
    "                continue\n",
    "            product *= i\n",
    "        return product\n",
    "\n",
    "    def productExceptSelf(self, nums:List[int]) -> List[int]:\n",
    "        answer = []\n",
    "        total_prod = self.product(nums)\n",
    "        zero_cnt = 0\n",
    "        zero_idx = []\n",
    "        for i in range(len(nums)):\n",
    "            if nums[i] == 0:\n",
    "                zero_cnt += 1\n",
    "                zero_idx.append(i)\n",
    "                answer.append(0)\n",
    "            else:\n",
    "                answer.append(int(total_prod/nums[i]))\n",
    "\n",
    "        if zero_cnt == 0:\n",
    "            return answer\n",
    "        elif zero_cnt == 1:\n",
    "            answer = [0 for _ in range(len(nums)-1)]\n",
    "            answer.insert(zero_idx[0], total_prod)\n",
    "            return answer\n",
    "        else:\n",
    "            answer = [0 for _ in range(len(nums))]\n",
    "            return answer"
   ]
  }
 ]
}