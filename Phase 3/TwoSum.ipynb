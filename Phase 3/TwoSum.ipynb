{
 "metadata": {
  "language_info": {
   "codemirror_mode": {
    "name": "ipython",
    "version": 3
   },
   "file_extension": ".py",
   "mimetype": "text/x-python",
   "name": "python",
   "nbconvert_exporter": "python",
   "pygments_lexer": "ipython3",
   "version": "3.7.9-final"
  },
  "orig_nbformat": 2,
  "kernelspec": {
   "name": "python379jvsc74a57bd0b3ba2566441a7c06988d0923437866b63cedc61552a5af99d1f4fb67d367b25f",
   "display_name": "Python 3.7.9 64-bit (conda)"
  }
 },
 "nbformat": 4,
 "nbformat_minor": 2,
 "cells": [
  {
   "cell_type": "code",
   "execution_count": 2,
   "metadata": {},
   "outputs": [
    {
     "output_type": "execute_result",
     "data": {
      "text/plain": [
       "{0: 1, 1: 2, 2: 3, 3: 4, 4: 5}"
      ]
     },
     "metadata": {},
     "execution_count": 2
    }
   ],
   "source": [
    "a = [1, 2, 3, 4, 5]\n",
    "\n",
    "dictionary = {index : integer for index, integer in enumerate(a)}\n",
    "dictionary"
   ]
  },
  {
   "cell_type": "code",
   "execution_count": 3,
   "metadata": {},
   "outputs": [
    {
     "output_type": "execute_result",
     "data": {
      "text/plain": [
       "dict_items([(0, 1), (1, 2), (2, 3), (3, 4), (4, 5)])"
      ]
     },
     "metadata": {},
     "execution_count": 3
    }
   ],
   "source": [
    "dictionary.items()"
   ]
  },
  {
   "cell_type": "code",
   "execution_count": 55,
   "metadata": {},
   "outputs": [
    {
     "output_type": "stream",
     "name": "stdout",
     "text": [
      "{0: 1, 1: 2, 2: 3, 3: 4, 4: 3}\ndict_keys([0, 1, 2, 3, 4])\ndict_values([1, 2, 3, 4, 3])\n"
     ]
    }
   ],
   "source": [
    "a = [1, 2, 3, 4, 3]\n",
    "en = dict(enumerate(a))\n",
    "print(en)\n",
    "print(en.keys())\n",
    "print(en.values())\n",
    "# for idx, num in enumerate(a):\n",
    "#     print('idx', idx, 'num', num)"
   ]
  },
  {
   "cell_type": "code",
   "execution_count": 3,
   "metadata": {},
   "outputs": [
    {
     "output_type": "execute_result",
     "data": {
      "text/plain": [
       "2"
      ]
     },
     "metadata": {},
     "execution_count": 3
    }
   ],
   "source": [
    "a.index(3)"
   ]
  },
  {
   "cell_type": "code",
   "execution_count": 29,
   "metadata": {},
   "outputs": [
    {
     "output_type": "execute_result",
     "data": {
      "text/plain": [
       "[3]"
      ]
     },
     "metadata": {},
     "execution_count": 29
    }
   ],
   "source": [
    "b = a[4:]\n",
    "b"
   ]
  },
  {
   "cell_type": "code",
   "execution_count": 31,
   "metadata": {},
   "outputs": [
    {
     "output_type": "stream",
     "name": "stdout",
     "text": [
      "1\n"
     ]
    }
   ],
   "source": [
    "res = 3\n",
    "if res in b:\n",
    "    print(b.index(3) + 1)"
   ]
  },
  {
   "cell_type": "code",
   "execution_count": 74,
   "metadata": {},
   "outputs": [],
   "source": [
    "class Solution:\n",
    "    def twoSum(self, nums, target):\n",
    "        for i in range(len(nums) - 1):\n",
    "            k = i + 1\n",
    "            print('k is', k)\n",
    "            for j in range(k, len(nums)):\n",
    "                print('current j is', j)\n",
    "                if nums[i] + nums[j] == target:\n",
    "                    return [i, j]"
   ]
  },
  {
   "cell_type": "code",
   "execution_count": 75,
   "metadata": {},
   "outputs": [
    {
     "output_type": "stream",
     "name": "stdout",
     "text": [
      "k is 1\ncurrent j is 1\n"
     ]
    },
    {
     "output_type": "execute_result",
     "data": {
      "text/plain": [
       "[0, 1]"
      ]
     },
     "metadata": {},
     "execution_count": 75
    }
   ],
   "source": [
    "result = Solution()\n",
    "result.twoSum([2, 7, 11, 15], 9)"
   ]
  },
  {
   "cell_type": "code",
   "execution_count": 76,
   "metadata": {},
   "outputs": [
    {
     "output_type": "stream",
     "name": "stdout",
     "text": [
      "k is 1\ncurrent j is 1\ncurrent j is 2\nk is 2\ncurrent j is 2\n"
     ]
    },
    {
     "output_type": "execute_result",
     "data": {
      "text/plain": [
       "[1, 2]"
      ]
     },
     "metadata": {},
     "execution_count": 76
    }
   ],
   "source": [
    "result = Solution()\n",
    "result.twoSum([3, 2, 4], 6)"
   ]
  },
  {
   "cell_type": "code",
   "execution_count": 77,
   "metadata": {},
   "outputs": [
    {
     "output_type": "stream",
     "name": "stdout",
     "text": [
      "k is 1\ncurrent j is 1\n"
     ]
    },
    {
     "output_type": "execute_result",
     "data": {
      "text/plain": [
       "[0, 1]"
      ]
     },
     "metadata": {},
     "execution_count": 77
    }
   ],
   "source": [
    "result = Solution()\n",
    "result.twoSum([3, 3], 6)"
   ]
  },
  {
   "cell_type": "code",
   "execution_count": null,
   "metadata": {},
   "outputs": [],
   "source": [
    "# 여은's code\n",
    "\n",
    "def twoSum(self, nums: List[int], target: int) -> List[int]:\n",
    "        first = 0\n",
    "        second = first + 1\n",
    "        result = nums[first] + nums[second]\n",
    "        \n",
    "        while result != target:\n",
    "            if second < len(nums)-1:\n",
    "                second += 1\n",
    "                result = nums[first] + nums[second]\n",
    "            else:\n",
    "                first += 1\n",
    "                second = first + 1\n",
    "                result = nums[first] + nums[second]\n",
    "        \n",
    "        return [first, second]"
   ]
  },
  {
   "cell_type": "code",
   "execution_count": null,
   "metadata": {},
   "outputs": [],
   "source": [
    "# 경환's code\n",
    "\n",
    "def twoSum(self, nums: List[int], target: int) -> List[int]:\n",
    "    first = 0\n",
    "    second = first + 1\n",
    "    result = nums[first] + nums[second]\n",
    "\n",
    "\n",
    "    for i in range(len(nums)**2):\n",
    "        if first == nums[-2] and second == nums[-1]:\n",
    "            break\n",
    "        if second < len(nums) -1:\n",
    "            second+=1\n",
    "            result = nums[first] + nums[second]\n",
    "        else:\n",
    "            first+=1\n",
    "            second = first+1\n",
    "            result = nums[first] + nums[second]\n",
    "\n",
    "    return [first, second]"
   ]
  }
 ]
}